{
 "cells": [
  {
   "cell_type": "code",
   "execution_count": 2,
   "id": "d01731f1-9e6a-4516-9f14-dc6c26ff947e",
   "metadata": {},
   "outputs": [],
   "source": [
    "import numpy as np\n",
    "import pandas as pd\n",
    "from sklearn.impute import SimpleImputer\n",
    "from sklearn.preprocessing import MinMaxScaler\n",
    "from sklearn import model_selection\n",
    "from sklearn.ensemble import BaggingClassifier\n",
    "from sklearn.tree import DecisionTreeClassifier\n",
    "from sklearn.ensemble import AdaBoostClassifier\n",
    "from sklearn.linear_model import LogisticRegression\n",
    "from sklearn.tree import DecisionTreeClassifier\n",
    "from sklearn.svm import SVC\n",
    "from sklearn.ensemble import VotingClassifier"
   ]
  },
  {
   "cell_type": "code",
   "execution_count": 4,
   "id": "7bdc245e-ef85-45d7-b188-d5f803f23d1c",
   "metadata": {},
   "outputs": [
    {
     "name": "stdout",
     "output_type": "stream",
     "text": [
      "The content of sample data set are\n",
      "   Sample code number  Clump Thickness  Uniformity of Cell Size  \\\n",
      "0             1000025                5                        1   \n",
      "1             1002945                5                        4   \n",
      "2             1015425                3                        1   \n",
      "3             1016277                6                        8   \n",
      "4             1017023                4                        1   \n",
      "\n",
      "   Uniformity of Cell Shape  Marginal Adhesion  Single Epithelial Cell Size  \\\n",
      "0                         1                  1                            2   \n",
      "1                         4                  5                            7   \n",
      "2                         1                  1                            2   \n",
      "3                         8                  1                            3   \n",
      "4                         1                  3                            2   \n",
      "\n",
      "  Bare Nuclei  Bland Chromatin  Normal Nucleoli  Mitoses  Class  \n",
      "0           1                3                1        1      2  \n",
      "1          10                3                2        1      2  \n",
      "2           2                3                1        1      2  \n",
      "3           4                3                7        1      2  \n",
      "4           1                3                1        1      2  \n"
     ]
    }
   ],
   "source": [
    "ds=pd.read_csv(\"C:/Users/admin/Downloads/ensemble.csv\")\n",
    "print(\"The content of sample data set are\")\n",
    "print(ds.head())"
   ]
  },
  {
   "cell_type": "code",
   "execution_count": 5,
   "id": "c0f9dc05-4a62-456f-8844-d0c70c384c44",
   "metadata": {},
   "outputs": [
    {
     "name": "stdout",
     "output_type": "stream",
     "text": [
      "The content after dropping coloumn are\n",
      "   Clump Thickness  Uniformity of Cell Size  Uniformity of Cell Shape  \\\n",
      "0                5                        1                         1   \n",
      "1                5                        4                         4   \n",
      "2                3                        1                         1   \n",
      "3                6                        8                         8   \n",
      "4                4                        1                         1   \n",
      "\n",
      "   Marginal Adhesion  Single Epithelial Cell Size Bare Nuclei  \\\n",
      "0                  1                            2           1   \n",
      "1                  5                            7          10   \n",
      "2                  1                            2           2   \n",
      "3                  1                            3           4   \n",
      "4                  3                            2           1   \n",
      "\n",
      "   Bland Chromatin  Normal Nucleoli  Mitoses  Class  \n",
      "0                3                1        1      2  \n",
      "1                3                2        1      2  \n",
      "2                3                1        1      2  \n",
      "3                3                7        1      2  \n",
      "4                3                1        1      2  \n"
     ]
    }
   ],
   "source": [
    "ds.drop(['Sample code number'],axis=1,inplace=True)\n",
    "print(\"The content after dropping coloumn are\")\n",
    "print(ds.head())"
   ]
  },
  {
   "cell_type": "code",
   "execution_count": 6,
   "id": "8371aeae-7f94-44d7-bafd-737df105a7e4",
   "metadata": {},
   "outputs": [
    {
     "name": "stdout",
     "output_type": "stream",
     "text": [
      "The description about the data set...\n"
     ]
    },
    {
     "data": {
      "text/html": [
       "<div>\n",
       "<style scoped>\n",
       "    .dataframe tbody tr th:only-of-type {\n",
       "        vertical-align: middle;\n",
       "    }\n",
       "\n",
       "    .dataframe tbody tr th {\n",
       "        vertical-align: top;\n",
       "    }\n",
       "\n",
       "    .dataframe thead th {\n",
       "        text-align: right;\n",
       "    }\n",
       "</style>\n",
       "<table border=\"1\" class=\"dataframe\">\n",
       "  <thead>\n",
       "    <tr style=\"text-align: right;\">\n",
       "      <th></th>\n",
       "      <th>Clump Thickness</th>\n",
       "      <th>Uniformity of Cell Size</th>\n",
       "      <th>Uniformity of Cell Shape</th>\n",
       "      <th>Marginal Adhesion</th>\n",
       "      <th>Single Epithelial Cell Size</th>\n",
       "      <th>Bland Chromatin</th>\n",
       "      <th>Normal Nucleoli</th>\n",
       "      <th>Mitoses</th>\n",
       "      <th>Class</th>\n",
       "    </tr>\n",
       "  </thead>\n",
       "  <tbody>\n",
       "    <tr>\n",
       "      <th>count</th>\n",
       "      <td>699.000000</td>\n",
       "      <td>699.000000</td>\n",
       "      <td>699.000000</td>\n",
       "      <td>699.000000</td>\n",
       "      <td>699.000000</td>\n",
       "      <td>699.000000</td>\n",
       "      <td>699.000000</td>\n",
       "      <td>699.000000</td>\n",
       "      <td>699.000000</td>\n",
       "    </tr>\n",
       "    <tr>\n",
       "      <th>mean</th>\n",
       "      <td>4.417740</td>\n",
       "      <td>3.134478</td>\n",
       "      <td>3.207439</td>\n",
       "      <td>2.806867</td>\n",
       "      <td>3.216023</td>\n",
       "      <td>3.437768</td>\n",
       "      <td>2.866953</td>\n",
       "      <td>1.589413</td>\n",
       "      <td>2.689557</td>\n",
       "    </tr>\n",
       "    <tr>\n",
       "      <th>std</th>\n",
       "      <td>2.815741</td>\n",
       "      <td>3.051459</td>\n",
       "      <td>2.971913</td>\n",
       "      <td>2.855379</td>\n",
       "      <td>2.214300</td>\n",
       "      <td>2.438364</td>\n",
       "      <td>3.053634</td>\n",
       "      <td>1.715078</td>\n",
       "      <td>0.951273</td>\n",
       "    </tr>\n",
       "    <tr>\n",
       "      <th>min</th>\n",
       "      <td>1.000000</td>\n",
       "      <td>1.000000</td>\n",
       "      <td>1.000000</td>\n",
       "      <td>1.000000</td>\n",
       "      <td>1.000000</td>\n",
       "      <td>1.000000</td>\n",
       "      <td>1.000000</td>\n",
       "      <td>1.000000</td>\n",
       "      <td>2.000000</td>\n",
       "    </tr>\n",
       "    <tr>\n",
       "      <th>25%</th>\n",
       "      <td>2.000000</td>\n",
       "      <td>1.000000</td>\n",
       "      <td>1.000000</td>\n",
       "      <td>1.000000</td>\n",
       "      <td>2.000000</td>\n",
       "      <td>2.000000</td>\n",
       "      <td>1.000000</td>\n",
       "      <td>1.000000</td>\n",
       "      <td>2.000000</td>\n",
       "    </tr>\n",
       "    <tr>\n",
       "      <th>50%</th>\n",
       "      <td>4.000000</td>\n",
       "      <td>1.000000</td>\n",
       "      <td>1.000000</td>\n",
       "      <td>1.000000</td>\n",
       "      <td>2.000000</td>\n",
       "      <td>3.000000</td>\n",
       "      <td>1.000000</td>\n",
       "      <td>1.000000</td>\n",
       "      <td>2.000000</td>\n",
       "    </tr>\n",
       "    <tr>\n",
       "      <th>75%</th>\n",
       "      <td>6.000000</td>\n",
       "      <td>5.000000</td>\n",
       "      <td>5.000000</td>\n",
       "      <td>4.000000</td>\n",
       "      <td>4.000000</td>\n",
       "      <td>5.000000</td>\n",
       "      <td>4.000000</td>\n",
       "      <td>1.000000</td>\n",
       "      <td>4.000000</td>\n",
       "    </tr>\n",
       "    <tr>\n",
       "      <th>max</th>\n",
       "      <td>10.000000</td>\n",
       "      <td>10.000000</td>\n",
       "      <td>10.000000</td>\n",
       "      <td>10.000000</td>\n",
       "      <td>10.000000</td>\n",
       "      <td>10.000000</td>\n",
       "      <td>10.000000</td>\n",
       "      <td>10.000000</td>\n",
       "      <td>4.000000</td>\n",
       "    </tr>\n",
       "  </tbody>\n",
       "</table>\n",
       "</div>"
      ],
      "text/plain": [
       "       Clump Thickness  Uniformity of Cell Size  Uniformity of Cell Shape  \\\n",
       "count       699.000000               699.000000                699.000000   \n",
       "mean          4.417740                 3.134478                  3.207439   \n",
       "std           2.815741                 3.051459                  2.971913   \n",
       "min           1.000000                 1.000000                  1.000000   \n",
       "25%           2.000000                 1.000000                  1.000000   \n",
       "50%           4.000000                 1.000000                  1.000000   \n",
       "75%           6.000000                 5.000000                  5.000000   \n",
       "max          10.000000                10.000000                 10.000000   \n",
       "\n",
       "       Marginal Adhesion  Single Epithelial Cell Size  Bland Chromatin  \\\n",
       "count         699.000000                   699.000000       699.000000   \n",
       "mean            2.806867                     3.216023         3.437768   \n",
       "std             2.855379                     2.214300         2.438364   \n",
       "min             1.000000                     1.000000         1.000000   \n",
       "25%             1.000000                     2.000000         2.000000   \n",
       "50%             1.000000                     2.000000         3.000000   \n",
       "75%             4.000000                     4.000000         5.000000   \n",
       "max            10.000000                    10.000000        10.000000   \n",
       "\n",
       "       Normal Nucleoli     Mitoses       Class  \n",
       "count       699.000000  699.000000  699.000000  \n",
       "mean          2.866953    1.589413    2.689557  \n",
       "std           3.053634    1.715078    0.951273  \n",
       "min           1.000000    1.000000    2.000000  \n",
       "25%           1.000000    1.000000    2.000000  \n",
       "50%           1.000000    1.000000    2.000000  \n",
       "75%           4.000000    1.000000    4.000000  \n",
       "max          10.000000   10.000000    4.000000  "
      ]
     },
     "execution_count": 6,
     "metadata": {},
     "output_type": "execute_result"
    }
   ],
   "source": [
    "print(\"The description about the data set...\")\n",
    "ds.describe()"
   ]
  },
  {
   "cell_type": "code",
   "execution_count": 7,
   "id": "3af0cb13-a89c-443b-97fc-51861108f042",
   "metadata": {},
   "outputs": [
    {
     "name": "stdout",
     "output_type": "stream",
     "text": [
      "The information about the data set are...\n",
      "<class 'pandas.core.frame.DataFrame'>\n",
      "RangeIndex: 699 entries, 0 to 698\n",
      "Data columns (total 10 columns):\n",
      " #   Column                       Non-Null Count  Dtype \n",
      "---  ------                       --------------  ----- \n",
      " 0   Clump Thickness              699 non-null    int64 \n",
      " 1   Uniformity of Cell Size      699 non-null    int64 \n",
      " 2   Uniformity of Cell Shape     699 non-null    int64 \n",
      " 3   Marginal Adhesion            699 non-null    int64 \n",
      " 4   Single Epithelial Cell Size  699 non-null    int64 \n",
      " 5   Bare Nuclei                  699 non-null    object\n",
      " 6   Bland Chromatin              699 non-null    int64 \n",
      " 7   Normal Nucleoli              699 non-null    int64 \n",
      " 8   Mitoses                      699 non-null    int64 \n",
      " 9   Class                        699 non-null    int64 \n",
      "dtypes: int64(9), object(1)\n",
      "memory usage: 54.7+ KB\n",
      "None\n"
     ]
    }
   ],
   "source": [
    "print(\"The information about the data set are...\")\n",
    "print(ds.info())"
   ]
  },
  {
   "cell_type": "code",
   "execution_count": 8,
   "id": "33e56435-bedd-43f4-9f9b-a06b235e5f46",
   "metadata": {},
   "outputs": [
    {
     "name": "stdout",
     "output_type": "stream",
     "text": [
      "The content of first 25 Bare Nuclei coloumn in the data set...\n",
      "0      1\n",
      "1     10\n",
      "2      2\n",
      "3      4\n",
      "4      1\n",
      "5     10\n",
      "6     10\n",
      "7      1\n",
      "8      1\n",
      "9      1\n",
      "10     1\n",
      "11     1\n",
      "12     3\n",
      "13     3\n",
      "14     9\n",
      "15     1\n",
      "16     1\n",
      "17     1\n",
      "18    10\n",
      "19     1\n",
      "20    10\n",
      "21     7\n",
      "22     1\n",
      "23     ?\n",
      "24     1\n",
      "Name: Bare Nuclei, dtype: object\n",
      "The content of first 25 Bare Nuclei coloumn in the data set after replacing null values...\n",
      "0      1\n",
      "1     10\n",
      "2      2\n",
      "3      4\n",
      "4      1\n",
      "5     10\n",
      "6     10\n",
      "7      1\n",
      "8      1\n",
      "9      1\n",
      "10     1\n",
      "11     1\n",
      "12     3\n",
      "13     3\n",
      "14     9\n",
      "15     1\n",
      "16     1\n",
      "17     1\n",
      "18    10\n",
      "19     1\n",
      "20    10\n",
      "21     7\n",
      "22     1\n",
      "23     0\n",
      "24     1\n",
      "Name: Bare Nuclei, dtype: object\n"
     ]
    }
   ],
   "source": [
    "print(\"The content of first 25 Bare Nuclei coloumn in the data set...\")\n",
    "print(ds['Bare Nuclei'].head(25))\n",
    "ds.replace('?',0,inplace=True)\n",
    "print(\"The content of first 25 Bare Nuclei coloumn in the data set after replacing null values...\")\n",
    "print(ds['Bare Nuclei'].head(25))"
   ]
  },
  {
   "cell_type": "code",
   "execution_count": 9,
   "id": "d7959242-a9fa-4b4a-b93b-eac170f4abd8",
   "metadata": {},
   "outputs": [],
   "source": [
    "values=ds.values\n",
    "impute=SimpleImputer()\n",
    "impute_data=impute.fit_transform(values)\n",
    "scaler=MinMaxScaler(feature_range=(0,1))\n",
    "scaler_data=scaler.fit_transform(impute_data)"
   ]
  },
  {
   "cell_type": "code",
   "execution_count": 13,
   "id": "66db10dc-46d2-4a83-8a59-efaad583d701",
   "metadata": {},
   "outputs": [
    {
     "ename": "TypeError",
     "evalue": "BaggingClassifier.__init__() got an unexpected keyword argument 'base_estimator'",
     "output_type": "error",
     "traceback": [
      "\u001b[1;31m---------------------------------------------------------------------------\u001b[0m",
      "\u001b[1;31mTypeError\u001b[0m                                 Traceback (most recent call last)",
      "Cell \u001b[1;32mIn[13], line 6\u001b[0m\n\u001b[0;32m      4\u001b[0m cart\u001b[38;5;241m=\u001b[39mDecisionTreeClassifier()\n\u001b[0;32m      5\u001b[0m num_trees\u001b[38;5;241m=\u001b[39m\u001b[38;5;241m100\u001b[39m\n\u001b[1;32m----> 6\u001b[0m model\u001b[38;5;241m=\u001b[39mBaggingClassifier(base_estimator\u001b[38;5;241m=\u001b[39mcart,n_estimators\u001b[38;5;241m=\u001b[39mnum_trees,random_state\u001b[38;5;241m=\u001b[39m\u001b[38;5;241m7\u001b[39m)\n\u001b[0;32m      7\u001b[0m results\u001b[38;5;241m=\u001b[39mmodel_selection\u001b[38;5;241m.\u001b[39mcross_val_score(model,X,y,cv\u001b[38;5;241m=\u001b[39mkfold)\n\u001b[0;32m      8\u001b[0m \u001b[38;5;28mprint\u001b[39m(\u001b[38;5;124m\"\u001b[39m\u001b[38;5;124mThe accuracy of the Bagging Ensemble Algorithm is given below:\u001b[39m\u001b[38;5;124m\"\u001b[39m)\n",
      "\u001b[1;31mTypeError\u001b[0m: BaggingClassifier.__init__() got an unexpected keyword argument 'base_estimator'"
     ]
    }
   ],
   "source": [
    "X=scaler_data[:,0:9]\n",
    "y=scaler_data[:,9]\n",
    "kfold=model_selection.KFold(n_splits=10)\n",
    "cart=DecisionTreeClassifier()\n",
    "num_trees=100\n",
    "model=BaggingClassifier(base_estimator=cart,n_estimators=num_trees,random_state=7)\n",
    "results=model_selection.cross_val_score(model,X,y,cv=kfold)\n",
    "print(\"The accuracy of the Bagging Ensemble Algorithm is given below:\")\n",
    "print(results.mean()*100)"
   ]
  },
  {
   "cell_type": "code",
   "execution_count": 11,
   "id": "cf7de50d-f602-4271-a077-6e4bb3e27286",
   "metadata": {},
   "outputs": [
    {
     "name": "stderr",
     "output_type": "stream",
     "text": [
      "C:\\Users\\Administrator\\anaconda3\\Lib\\site-packages\\sklearn\\ensemble\\_weight_boosting.py:527: FutureWarning: The SAMME.R algorithm (the default) is deprecated and will be removed in 1.6. Use the SAMME algorithm to circumvent this warning.\n",
      "  warnings.warn(\n",
      "C:\\Users\\Administrator\\anaconda3\\Lib\\site-packages\\sklearn\\ensemble\\_weight_boosting.py:527: FutureWarning: The SAMME.R algorithm (the default) is deprecated and will be removed in 1.6. Use the SAMME algorithm to circumvent this warning.\n",
      "  warnings.warn(\n",
      "C:\\Users\\Administrator\\anaconda3\\Lib\\site-packages\\sklearn\\ensemble\\_weight_boosting.py:527: FutureWarning: The SAMME.R algorithm (the default) is deprecated and will be removed in 1.6. Use the SAMME algorithm to circumvent this warning.\n",
      "  warnings.warn(\n",
      "C:\\Users\\Administrator\\anaconda3\\Lib\\site-packages\\sklearn\\ensemble\\_weight_boosting.py:527: FutureWarning: The SAMME.R algorithm (the default) is deprecated and will be removed in 1.6. Use the SAMME algorithm to circumvent this warning.\n",
      "  warnings.warn(\n",
      "C:\\Users\\Administrator\\anaconda3\\Lib\\site-packages\\sklearn\\ensemble\\_weight_boosting.py:527: FutureWarning: The SAMME.R algorithm (the default) is deprecated and will be removed in 1.6. Use the SAMME algorithm to circumvent this warning.\n",
      "  warnings.warn(\n",
      "C:\\Users\\Administrator\\anaconda3\\Lib\\site-packages\\sklearn\\ensemble\\_weight_boosting.py:527: FutureWarning: The SAMME.R algorithm (the default) is deprecated and will be removed in 1.6. Use the SAMME algorithm to circumvent this warning.\n",
      "  warnings.warn(\n",
      "C:\\Users\\Administrator\\anaconda3\\Lib\\site-packages\\sklearn\\ensemble\\_weight_boosting.py:527: FutureWarning: The SAMME.R algorithm (the default) is deprecated and will be removed in 1.6. Use the SAMME algorithm to circumvent this warning.\n",
      "  warnings.warn(\n",
      "C:\\Users\\Administrator\\anaconda3\\Lib\\site-packages\\sklearn\\ensemble\\_weight_boosting.py:527: FutureWarning: The SAMME.R algorithm (the default) is deprecated and will be removed in 1.6. Use the SAMME algorithm to circumvent this warning.\n",
      "  warnings.warn(\n",
      "C:\\Users\\Administrator\\anaconda3\\Lib\\site-packages\\sklearn\\ensemble\\_weight_boosting.py:527: FutureWarning: The SAMME.R algorithm (the default) is deprecated and will be removed in 1.6. Use the SAMME algorithm to circumvent this warning.\n",
      "  warnings.warn(\n"
     ]
    },
    {
     "name": "stdout",
     "output_type": "stream",
     "text": [
      "The accuracy of the AdaBoost Ensemble Algorithm is given below:\n",
      "95.42857142857143\n"
     ]
    },
    {
     "name": "stderr",
     "output_type": "stream",
     "text": [
      "C:\\Users\\Administrator\\anaconda3\\Lib\\site-packages\\sklearn\\ensemble\\_weight_boosting.py:527: FutureWarning: The SAMME.R algorithm (the default) is deprecated and will be removed in 1.6. Use the SAMME algorithm to circumvent this warning.\n",
      "  warnings.warn(\n"
     ]
    }
   ],
   "source": [
    "seed=7\n",
    "num_trees=70\n",
    "kfold=model_selection.KFold(n_splits=10,shuffle=True)\n",
    "model=AdaBoostClassifier(n_estimators=num_trees,random_state=seed)\n",
    "results=model_selection.cross_val_score(model,X,y,cv=kfold)\n",
    "print(\"The accuracy of the AdaBoost Ensemble Algorithm is given below:\")\n",
    "print(results.mean()*100)\n",
    "kfold=model_selection.KFold(n_splits=100)\n",
    "estimators=[]\n",
    "model1=LogisticRegression()\n",
    "model2=DecisionTreeClassifier()"
   ]
  },
  {
   "cell_type": "code",
   "execution_count": null,
   "id": "3d6f2214-678c-40b4-9bfd-69cc69b26c92",
   "metadata": {},
   "outputs": [],
   "source": []
  }
 ],
 "metadata": {
  "kernelspec": {
   "display_name": "Python 3 (ipykernel)",
   "language": "python",
   "name": "python3"
  },
  "language_info": {
   "codemirror_mode": {
    "name": "ipython",
    "version": 3
   },
   "file_extension": ".py",
   "mimetype": "text/x-python",
   "name": "python",
   "nbconvert_exporter": "python",
   "pygments_lexer": "ipython3",
   "version": "3.12.7"
  }
 },
 "nbformat": 4,
 "nbformat_minor": 5
}
